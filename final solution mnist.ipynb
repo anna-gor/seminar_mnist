{
 "cells": [
  {
   "cell_type": "markdown",
   "metadata": {
    "toc": true
   },
   "source": [
    "<h1>Table of Contents<span class=\"tocSkip\"></span></h1>\n",
    "<div class=\"toc\"><ul class=\"toc-item\"><li><span><a href=\"#Извлечение-признаков\" data-toc-modified-id=\"Извлечение-признаков-0\"><span class=\"toc-item-num\">0&nbsp;&nbsp;</span>Извлечение признаков</a></span></li><li><span><a href=\"#Обучение-сверточной-нейросети-на-картинках\" data-toc-modified-id=\"Обучение-сверточной-нейросети-на-картинках-1\"><span class=\"toc-item-num\">1&nbsp;&nbsp;</span>Обучение сверточной нейросети на картинках</a></span></li><li><span><a href=\"#Добавление-столбца-с-предсказаниями-нейросети-к-данным-с-голосом\" data-toc-modified-id=\"Добавление-столбца-с-предсказаниями-нейросети-к-данным-с-голосом-2\"><span class=\"toc-item-num\">2&nbsp;&nbsp;</span>Добавление столбца с предсказаниями нейросети к данным с голосом</a></span></li><li><span><a href=\"#На-получившемся-датасете-обучаем-RandomForestClassifier\" data-toc-modified-id=\"На-получившемся-датасете-обучаем-RandomForestClassifier-3\"><span class=\"toc-item-num\">3&nbsp;&nbsp;</span>На получившемся датасете обучаем RandomForestClassifier</a></span></li><li><span><a href=\"#Готовим-submit-data\" data-toc-modified-id=\"Готовим-submit-data-4\"><span class=\"toc-item-num\">4&nbsp;&nbsp;</span>Готовим submit data</a></span></li></ul></div>"
   ]
  },
  {
   "cell_type": "code",
   "execution_count": 7,
   "metadata": {
    "ExecuteTime": {
     "end_time": "2019-11-20T12:48:30.034353Z",
     "start_time": "2019-11-20T12:48:30.029080Z"
    }
   },
   "outputs": [],
   "source": [
    "import numpy as np\n",
    "import matplotlib.pyplot as plt\n",
    "plt.style.use(\"ggplot\")\n",
    "np.random.seed(42)"
   ]
  },
  {
   "cell_type": "markdown",
   "metadata": {},
   "source": [
    "Для каждой арабской цифры имеется скан записи на бумаге (`./data/train/image`) и запись произношения на английском языке разными дикторами (`./data/train/voice`)\n",
    "\n",
    "Требуется построить модель для классификации цифр"
   ]
  },
  {
   "cell_type": "code",
   "execution_count": 8,
   "metadata": {
    "ExecuteTime": {
     "end_time": "2019-11-20T12:48:33.017318Z",
     "start_time": "2019-11-20T12:48:33.010184Z"
    }
   },
   "outputs": [],
   "source": [
    "import os\n",
    "import PIL\n",
    "\n",
    "IMAGE_TRAIN_PATH = \"./data/train/image\"\n",
    "VOICE_TRAIN_PATH = \"./data/train/voice\"\n",
    "IMAGE_TEST_PATH = \"./data/test/image/\"\n",
    "VOICE_TEST_PATH = \"./data/test/voice/\"\n",
    "\n",
    "def read_image(path):\n",
    "    return PIL.Image.open(path).convert('L')"
   ]
  },
  {
   "cell_type": "code",
   "execution_count": 12,
   "metadata": {
    "ExecuteTime": {
     "end_time": "2019-11-20T12:48:56.717286Z",
     "start_time": "2019-11-20T12:48:56.029304Z"
    }
   },
   "outputs": [],
   "source": [
    "import librosa\n",
    "import librosa.display"
   ]
  },
  {
   "cell_type": "code",
   "execution_count": 13,
   "metadata": {
    "ExecuteTime": {
     "end_time": "2019-11-20T12:48:59.329119Z",
     "start_time": "2019-11-20T12:48:59.326056Z"
    }
   },
   "outputs": [],
   "source": [
    "def load_wav(path):\n",
    "    return librosa.load(path, sr=8000)"
   ]
  },
  {
   "cell_type": "code",
   "execution_count": 14,
   "metadata": {
    "ExecuteTime": {
     "end_time": "2019-11-20T12:49:14.449839Z",
     "start_time": "2019-11-20T12:49:14.236754Z"
    }
   },
   "outputs": [],
   "source": [
    "durations = []\n",
    "\n",
    "for name in os.listdir(VOICE_TRAIN_PATH):\n",
    "    path = os.path.join(VOICE_TRAIN_PATH, name)\n",
    "    signal, sr = load_wav(path)\n",
    "    duration = signal.size / float(sr)\n",
    "    durations.append(duration)"
   ]
  },
  {
   "cell_type": "code",
   "execution_count": 15,
   "metadata": {
    "ExecuteTime": {
     "end_time": "2019-11-20T12:49:15.646173Z",
     "start_time": "2019-11-20T12:49:15.038013Z"
    }
   },
   "outputs": [
    {
     "data": {
      "image/png": "[encoded data removed]",
      "text/plain": [
       "<Figure size 432x288 with 1 Axes>"
      ]
     },
     "metadata": {},
     "output_type": "display_data"
    }
   ],
   "source": [
    "plt.hist(durations, bins=20)\n",
    "plt.yscale('log');"
   ]
  },
  {
   "cell_type": "code",
   "execution_count": 16,
   "metadata": {
    "ExecuteTime": {
     "end_time": "2019-11-20T12:49:18.150233Z",
     "start_time": "2019-11-20T12:49:17.722971Z"
    }
   },
   "outputs": [
    {
     "name": "stdout",
     "output_type": "stream",
     "text": [
      "0_127.png\n",
      "1_20.png\n"
     ]
    }
   ],
   "source": [
    "sum_intensity = np.zeros((28, 28), dtype=np.float32)\n",
    "\n",
    "zero_element_counts = []\n",
    "\n",
    "for name in os.listdir(IMAGE_TRAIN_PATH):\n",
    "    path = os.path.join(IMAGE_TRAIN_PATH, name)\n",
    "    img = read_image(path)\n",
    "    np_img = np.array(img)\n",
    "    zero_count = (np_img < 1.0).astype(int).sum()\n",
    "    zero_element_counts.append(zero_count)\n",
    "    sum_intensity += np_img\n",
    "    if zero_count > 735 or zero_count < 492:\n",
    "        print(name)\n",
    "    '''\n",
    "    ipd.clear_output(wait=True)\n",
    "    plt.figure(figsize=(8,8))\n",
    "    plt.imshow(sum_intensity, cmap=\"plasma\")\n",
    "    plt.grid(False)\n",
    "    plt.show()\n",
    "    '''"
   ]
  },
  {
   "cell_type": "code",
   "execution_count": 17,
   "metadata": {
    "ExecuteTime": {
     "end_time": "2019-11-20T12:49:18.793764Z",
     "start_time": "2019-11-20T12:49:18.570228Z"
    }
   },
   "outputs": [
    {
     "data": {
      "image/png": "[encoded data removed]",
      "text/plain": [
       "<Figure size 432x288 with 1 Axes>"
      ]
     },
     "metadata": {},
     "output_type": "display_data"
    }
   ],
   "source": [
    "plt.hist(zero_element_counts, bins=25);"
   ]
  },
  {
   "cell_type": "markdown",
   "metadata": {},
   "source": [
    "### Извлечение признаков"
   ]
  },
  {
   "cell_type": "code",
   "execution_count": 18,
   "metadata": {
    "ExecuteTime": {
     "end_time": "2019-11-20T12:49:26.359567Z",
     "start_time": "2019-11-20T12:49:26.192699Z"
    },
    "scrolled": true
   },
   "outputs": [
    {
     "name": "stderr",
     "output_type": "stream",
     "text": [
      "/home/ann/.pyenv/versions/3.6.6/lib/python3.6/site-packages/pandas/compat/__init__.py:85: UserWarning: Could not import the lzma module. Your installed Python is incomplete. Attempting to use lzma compression will result in a RuntimeError.\n",
      "  warnings.warn(msg)\n"
     ]
    }
   ],
   "source": [
    "import pandas as pd"
   ]
  },
  {
   "cell_type": "code",
   "execution_count": 19,
   "metadata": {
    "ExecuteTime": {
     "end_time": "2019-11-20T12:49:28.538737Z",
     "start_time": "2019-11-20T12:49:28.526451Z"
    }
   },
   "outputs": [],
   "source": [
    "def extract_image_features(image_folder):\n",
    "    image_vectors = []\n",
    "    indices = []\n",
    "    for image_name in os.listdir(image_folder):\n",
    "        index = os.path.splitext(image_name)[0]\n",
    "        indices.append(index)\n",
    "        image = read_image(os.path.join(image_folder, image_name))\n",
    "        image_vector = np.array(image).reshape(-1)\n",
    "        image_vectors.append(image_vector)\n",
    "    return pd.DataFrame({\n",
    "        'index': indices,\n",
    "        'image_vector': image_vectors,\n",
    "    })"
   ]
  },
  {
   "cell_type": "code",
   "execution_count": 20,
   "metadata": {
    "ExecuteTime": {
     "end_time": "2019-11-20T12:49:53.618948Z",
     "start_time": "2019-11-20T12:49:52.439504Z"
    }
   },
   "outputs": [],
   "source": [
    "image_features_tr = extract_image_features(IMAGE_TRAIN_PATH)\n",
    "image_features_te = extract_image_features(IMAGE_TEST_PATH)"
   ]
  },
  {
   "cell_type": "code",
   "execution_count": 21,
   "metadata": {
    "ExecuteTime": {
     "end_time": "2019-11-20T12:50:05.990865Z",
     "start_time": "2019-11-20T12:50:05.977173Z"
    }
   },
   "outputs": [],
   "source": [
    "def extract_voice_features(voice_folder, numcep=100, hop_length=256):\n",
    "    voice_vectors = []\n",
    "    indices = []\n",
    "    for record_name in os.listdir(voice_folder):\n",
    "        index = os.path.splitext(record_name)[0]\n",
    "        indices.append(index)\n",
    "        signal, sr = load_wav(\n",
    "            os.path.join(voice_folder, record_name)\n",
    "        )\n",
    "        mfcc_features = librosa.feature.mfcc(\n",
    "            signal, sr=sr, n_mfcc=numcep, hop_length=hop_length\n",
    "        )\n",
    "        voice_vector = mfcc_features.mean(axis=1)\n",
    "        voice_vectors.append(voice_vector)\n",
    "    return pd.DataFrame({\n",
    "        'index': indices,\n",
    "        'voice_vector': voice_vectors,\n",
    "    })"
   ]
  },
  {
   "cell_type": "code",
   "execution_count": 22,
   "metadata": {
    "ExecuteTime": {
     "end_time": "2019-11-20T12:50:35.207186Z",
     "start_time": "2019-11-20T12:50:25.120350Z"
    }
   },
   "outputs": [],
   "source": [
    "voice_features_tr = extract_voice_features(VOICE_TRAIN_PATH)\n",
    "voice_features_te = extract_voice_features(VOICE_TEST_PATH)"
   ]
  },
  {
   "cell_type": "code",
   "execution_count": 23,
   "metadata": {
    "ExecuteTime": {
     "end_time": "2019-11-20T12:51:05.359212Z",
     "start_time": "2019-11-20T12:51:05.341585Z"
    }
   },
   "outputs": [],
   "source": [
    "dataset_tr = image_features_tr.merge(voice_features_tr, on='index')\n",
    "dataset_te = image_features_te.merge(voice_features_te, on='index')"
   ]
  },
  {
   "cell_type": "code",
   "execution_count": 24,
   "metadata": {
    "ExecuteTime": {
     "end_time": "2019-11-20T12:51:10.418019Z",
     "start_time": "2019-11-20T12:51:10.411026Z"
    }
   },
   "outputs": [
    {
     "data": {
      "text/plain": [
       "(1500, 3)"
      ]
     },
     "execution_count": 24,
     "metadata": {},
     "output_type": "execute_result"
    }
   ],
   "source": [
    "dataset_tr.shape"
   ]
  },
  {
   "cell_type": "code",
   "execution_count": 25,
   "metadata": {
    "ExecuteTime": {
     "end_time": "2019-11-20T12:51:33.627837Z",
     "start_time": "2019-11-20T12:51:33.617133Z"
    }
   },
   "outputs": [],
   "source": [
    "dataset_tr[\"target\"] = dataset_tr[\"index\"].apply(lambda x: int(x[0]))\n",
    "dataset_te[\"target\"] = dataset_te[\"index\"].apply(lambda x: int(x[0]))"
   ]
  },
  {
   "cell_type": "markdown",
   "metadata": {},
   "source": [
    "### Обучение сверточной нейросети на картинках"
   ]
  },
  {
   "cell_type": "code",
   "execution_count": 26,
   "metadata": {
    "ExecuteTime": {
     "end_time": "2019-11-20T12:52:21.703905Z",
     "start_time": "2019-11-20T12:52:21.677780Z"
    }
   },
   "outputs": [],
   "source": [
    "X_trainimg = np.vstack(dataset_tr[\"image_vector\"].values/255)\n",
    "y_trainimg = dataset_tr[\"target\"]\n",
    "X_testimg = np.vstack(dataset_te[\"image_vector\"].values/255)\n",
    "y_testimg = dataset_te[\"target\"]"
   ]
  },
  {
   "cell_type": "code",
   "execution_count": 27,
   "metadata": {
    "ExecuteTime": {
     "end_time": "2019-11-20T12:52:26.546118Z",
     "start_time": "2019-11-20T12:52:26.529838Z"
    }
   },
   "outputs": [
    {
     "name": "stderr",
     "output_type": "stream",
     "text": [
      "/home/ann/.pyenv/versions/3.6.6/lib/python3.6/site-packages/sklearn/preprocessing/_encoders.py:415: FutureWarning: The handling of integer data will change in version 0.22. Currently, the categories are determined based on the range [0, max(values)], while in the future they will be determined based on the unique values.\n",
      "If you want the future behaviour and silence this warning, you can specify \"categories='auto'\".\n",
      "In case you used a LabelEncoder before this OneHotEncoder to convert the categories to integers, then you can now use the OneHotEncoder directly.\n",
      "  warnings.warn(msg, FutureWarning)\n"
     ]
    },
    {
     "data": {
      "text/plain": [
       "(1500, 10)"
      ]
     },
     "execution_count": 27,
     "metadata": {},
     "output_type": "execute_result"
    }
   ],
   "source": [
    "from sklearn.preprocessing import OneHotEncoder\n",
    "encoder = OneHotEncoder(sparse=False)\n",
    "y_trainimg = encoder.fit_transform(np.array(y_trainimg).reshape(-1, 1))\n",
    "y_trainimg.shape"
   ]
  },
  {
   "cell_type": "code",
   "execution_count": 28,
   "metadata": {
    "ExecuteTime": {
     "end_time": "2019-11-20T12:52:29.625231Z",
     "start_time": "2019-11-20T12:52:29.614566Z"
    }
   },
   "outputs": [
    {
     "name": "stderr",
     "output_type": "stream",
     "text": [
      "/home/ann/.pyenv/versions/3.6.6/lib/python3.6/site-packages/sklearn/preprocessing/_encoders.py:415: FutureWarning: The handling of integer data will change in version 0.22. Currently, the categories are determined based on the range [0, max(values)], while in the future they will be determined based on the unique values.\n",
      "If you want the future behaviour and silence this warning, you can specify \"categories='auto'\".\n",
      "In case you used a LabelEncoder before this OneHotEncoder to convert the categories to integers, then you can now use the OneHotEncoder directly.\n",
      "  warnings.warn(msg, FutureWarning)\n"
     ]
    },
    {
     "data": {
      "text/plain": [
       "(500, 10)"
      ]
     },
     "execution_count": 28,
     "metadata": {},
     "output_type": "execute_result"
    }
   ],
   "source": [
    "y_testimg = encoder.fit_transform(np.array(y_testimg).reshape(-1, 1))\n",
    "y_testimg.shape"
   ]
  },
  {
   "cell_type": "code",
   "execution_count": 29,
   "metadata": {
    "ExecuteTime": {
     "end_time": "2019-11-20T12:52:32.904687Z",
     "start_time": "2019-11-20T12:52:32.898039Z"
    }
   },
   "outputs": [],
   "source": [
    "X_trainimg = X_trainimg.reshape(-1, 28, 28, 1)\n",
    "X_testimg = X_testimg.reshape(-1, 28, 28, 1)"
   ]
  },
  {
   "cell_type": "code",
   "execution_count": 30,
   "metadata": {
    "ExecuteTime": {
     "end_time": "2019-11-20T12:52:33.942455Z",
     "start_time": "2019-11-20T12:52:33.929858Z"
    }
   },
   "outputs": [
    {
     "data": {
      "text/plain": [
       "(1500, 28, 28, 1)"
      ]
     },
     "execution_count": 30,
     "metadata": {},
     "output_type": "execute_result"
    }
   ],
   "source": [
    "X_trainimg.shape"
   ]
  },
  {
   "cell_type": "code",
   "execution_count": 31,
   "metadata": {
    "ExecuteTime": {
     "end_time": "2019-11-20T12:52:38.409248Z",
     "start_time": "2019-11-20T12:52:37.616849Z"
    }
   },
   "outputs": [
    {
     "name": "stderr",
     "output_type": "stream",
     "text": [
      "Using TensorFlow backend.\n",
      "/home/ann/.pyenv/versions/3.6.6/lib/python3.6/site-packages/tensorflow/python/framework/dtypes.py:526: FutureWarning: Passing (type, 1) or '1type' as a synonym of type is deprecated; in a future version of numpy, it will be understood as (type, (1,)) / '(1,)type'.\n",
      "  _np_qint8 = np.dtype([(\"qint8\", np.int8, 1)])\n",
      "/home/ann/.pyenv/versions/3.6.6/lib/python3.6/site-packages/tensorflow/python/framework/dtypes.py:527: FutureWarning: Passing (type, 1) or '1type' as a synonym of type is deprecated; in a future version of numpy, it will be understood as (type, (1,)) / '(1,)type'.\n",
      "  _np_quint8 = np.dtype([(\"quint8\", np.uint8, 1)])\n",
      "/home/ann/.pyenv/versions/3.6.6/lib/python3.6/site-packages/tensorflow/python/framework/dtypes.py:528: FutureWarning: Passing (type, 1) or '1type' as a synonym of type is deprecated; in a future version of numpy, it will be understood as (type, (1,)) / '(1,)type'.\n",
      "  _np_qint16 = np.dtype([(\"qint16\", np.int16, 1)])\n",
      "/home/ann/.pyenv/versions/3.6.6/lib/python3.6/site-packages/tensorflow/python/framework/dtypes.py:529: FutureWarning: Passing (type, 1) or '1type' as a synonym of type is deprecated; in a future version of numpy, it will be understood as (type, (1,)) / '(1,)type'.\n",
      "  _np_quint16 = np.dtype([(\"quint16\", np.uint16, 1)])\n",
      "/home/ann/.pyenv/versions/3.6.6/lib/python3.6/site-packages/tensorflow/python/framework/dtypes.py:530: FutureWarning: Passing (type, 1) or '1type' as a synonym of type is deprecated; in a future version of numpy, it will be understood as (type, (1,)) / '(1,)type'.\n",
      "  _np_qint32 = np.dtype([(\"qint32\", np.int32, 1)])\n",
      "/home/ann/.pyenv/versions/3.6.6/lib/python3.6/site-packages/tensorflow/python/framework/dtypes.py:535: FutureWarning: Passing (type, 1) or '1type' as a synonym of type is deprecated; in a future version of numpy, it will be understood as (type, (1,)) / '(1,)type'.\n",
      "  np_resource = np.dtype([(\"resource\", np.ubyte, 1)])\n"
     ]
    }
   ],
   "source": [
    "import keras\n",
    "from keras.datasets import mnist\n",
    "from keras.models import Sequential\n",
    "from keras.layers import Dense, Dropout, Flatten\n",
    "from keras.layers import Conv2D, MaxPooling2D\n",
    "from keras import backend as K\n"
   ]
  },
  {
   "cell_type": "code",
   "execution_count": 32,
   "metadata": {
    "ExecuteTime": {
     "end_time": "2019-11-20T12:52:40.762322Z",
     "start_time": "2019-11-20T12:52:40.741225Z"
    }
   },
   "outputs": [],
   "source": [
    "keras.backend.clear_session()"
   ]
  },
  {
   "cell_type": "code",
   "execution_count": 33,
   "metadata": {
    "ExecuteTime": {
     "end_time": "2019-11-20T12:52:43.525358Z",
     "start_time": "2019-11-20T12:52:43.406668Z"
    }
   },
   "outputs": [
    {
     "name": "stdout",
     "output_type": "stream",
     "text": [
      "WARNING:tensorflow:From /home/ann/.pyenv/versions/3.6.6/lib/python3.6/site-packages/tensorflow/python/ops/resource_variable_ops.py:435: colocate_with (from tensorflow.python.framework.ops) is deprecated and will be removed in a future version.\n",
      "Instructions for updating:\n",
      "Colocations handled automatically by placer.\n"
     ]
    }
   ],
   "source": [
    "model = Sequential()\n",
    "model.add(Conv2D(32, kernel_size=(3, 3),\n",
    "                 activation='relu',\n",
    "                 input_shape=(28, 28, 1)))\n",
    "model.add(Conv2D(64, (3, 3), activation='relu'))\n",
    "model.add(MaxPooling2D(pool_size=(2, 2)))\n",
    "model.add(Dropout(0.25))\n",
    "model.add(Flatten())\n",
    "model.add(Dense(128, activation='relu'))\n",
    "model.add(Dropout(0.5))\n",
    "model.add(Dense(10, activation='softmax'))"
   ]
  },
  {
   "cell_type": "code",
   "execution_count": 34,
   "metadata": {
    "ExecuteTime": {
     "end_time": "2019-11-20T12:52:46.678056Z",
     "start_time": "2019-11-20T12:52:46.618528Z"
    }
   },
   "outputs": [],
   "source": [
    "model.compile(loss=keras.losses.categorical_crossentropy,\n",
    "              optimizer=keras.optimizers.Adadelta(),\n",
    "              metrics=['accuracy'])"
   ]
  },
  {
   "cell_type": "code",
   "execution_count": 38,
   "metadata": {
    "ExecuteTime": {
     "end_time": "2019-11-20T12:54:41.828014Z",
     "start_time": "2019-11-20T12:53:59.792672Z"
    }
   },
   "outputs": [
    {
     "name": "stdout",
     "output_type": "stream",
     "text": [
      "Train on 1500 samples, validate on 500 samples\n",
      "Epoch 1/15\n",
      "1500/1500 [==============================] - 3s 2ms/step - loss: 0.2540 - accuracy: 0.9253 - val_loss: 8.6333 - val_accuracy: 0.1100\n",
      "Epoch 2/15\n",
      "1500/1500 [==============================] - 3s 2ms/step - loss: 0.1767 - accuracy: 0.9487 - val_loss: 10.1987 - val_accuracy: 0.1060\n",
      "Epoch 3/15\n",
      "1500/1500 [==============================] - 3s 2ms/step - loss: 0.1396 - accuracy: 0.9500 - val_loss: 10.4624 - val_accuracy: 0.1080\n",
      "Epoch 4/15\n",
      "1500/1500 [==============================] - 3s 2ms/step - loss: 0.1211 - accuracy: 0.9607 - val_loss: 10.5358 - val_accuracy: 0.1120\n",
      "Epoch 5/15\n",
      "1500/1500 [==============================] - 3s 2ms/step - loss: 0.0946 - accuracy: 0.9667 - val_loss: 10.9879 - val_accuracy: 0.1120\n",
      "Epoch 6/15\n",
      "1500/1500 [==============================] - 3s 2ms/step - loss: 0.0834 - accuracy: 0.9747 - val_loss: 11.0132 - val_accuracy: 0.1120\n",
      "Epoch 7/15\n",
      "1500/1500 [==============================] - 3s 2ms/step - loss: 0.0627 - accuracy: 0.9793 - val_loss: 11.7191 - val_accuracy: 0.1100\n",
      "Epoch 8/15\n",
      "1500/1500 [==============================] - 3s 2ms/step - loss: 0.0584 - accuracy: 0.9813 - val_loss: 11.7790 - val_accuracy: 0.1140\n",
      "Epoch 9/15\n",
      "1500/1500 [==============================] - 3s 2ms/step - loss: 0.0579 - accuracy: 0.9833 - val_loss: 12.1847 - val_accuracy: 0.1080\n",
      "Epoch 10/15\n",
      "1500/1500 [==============================] - 3s 2ms/step - loss: 0.0436 - accuracy: 0.9860 - val_loss: 12.2826 - val_accuracy: 0.1120\n",
      "Epoch 11/15\n",
      "1500/1500 [==============================] - 3s 2ms/step - loss: 0.0370 - accuracy: 0.9867 - val_loss: 12.4923 - val_accuracy: 0.1100\n",
      "Epoch 12/15\n",
      "1500/1500 [==============================] - 3s 2ms/step - loss: 0.0276 - accuracy: 0.9920 - val_loss: 12.6400 - val_accuracy: 0.1120\n",
      "Epoch 13/15\n",
      "1500/1500 [==============================] - 3s 2ms/step - loss: 0.0331 - accuracy: 0.9887 - val_loss: 12.6002 - val_accuracy: 0.1120\n",
      "Epoch 14/15\n",
      "1500/1500 [==============================] - 3s 2ms/step - loss: 0.0297 - accuracy: 0.9913 - val_loss: 12.9283 - val_accuracy: 0.1060\n",
      "Epoch 15/15\n",
      "1500/1500 [==============================] - 3s 2ms/step - loss: 0.0300 - accuracy: 0.9893 - val_loss: 12.8894 - val_accuracy: 0.1100\n"
     ]
    },
    {
     "data": {
      "text/plain": [
       "<keras.callbacks.callbacks.History at 0x7fcc9417aeb8>"
      ]
     },
     "execution_count": 38,
     "metadata": {},
     "output_type": "execute_result"
    }
   ],
   "source": [
    "model.fit(X_trainimg, y_trainimg,\n",
    "          batch_size=30,\n",
    "          epochs=15,\n",
    "          verbose=1,\n",
    "          validation_data=(X_testimg, y_testimg))"
   ]
  },
  {
   "cell_type": "code",
   "execution_count": 39,
   "metadata": {
    "ExecuteTime": {
     "end_time": "2019-11-20T12:54:52.188549Z",
     "start_time": "2019-11-20T12:54:51.979834Z"
    }
   },
   "outputs": [],
   "source": [
    "pred=model.predict(X_testimg).argmax(axis=1)"
   ]
  },
  {
   "cell_type": "code",
   "execution_count": null,
   "metadata": {},
   "outputs": [],
   "source": []
  },
  {
   "cell_type": "code",
   "execution_count": 40,
   "metadata": {
    "ExecuteTime": {
     "end_time": "2019-11-20T12:55:03.088290Z",
     "start_time": "2019-11-20T12:55:03.081853Z"
    }
   },
   "outputs": [],
   "source": [
    "def extract_voice_features(voice_folder, numcep=100, hop_length=256):\n",
    "    voice_vectors = []\n",
    "    indices = []\n",
    "    for record_name in os.listdir(voice_folder):\n",
    "        index = os.path.splitext(record_name)[0]\n",
    "        indices.append(index)\n",
    "        signal, sr = load_wav(\n",
    "            os.path.join(voice_folder, record_name)\n",
    "        )\n",
    "        mfcc_features = librosa.feature.mfcc(\n",
    "            signal, sr=sr, n_mfcc=numcep, hop_length=hop_length\n",
    "        )\n",
    "        voice_vector = mfcc_features.mean(axis=1)\n",
    "        voice_vectors.append(voice_vector)\n",
    "    return pd.DataFrame({\n",
    "        'index': indices,\n",
    "        'voice_vector': voice_vectors,\n",
    "    })"
   ]
  },
  {
   "cell_type": "code",
   "execution_count": 42,
   "metadata": {
    "ExecuteTime": {
     "end_time": "2019-11-20T12:55:30.340869Z",
     "start_time": "2019-11-20T12:55:30.298504Z"
    }
   },
   "outputs": [
    {
     "data": {
      "text/html": [
       "<div>\n",
       "<style scoped>\n",
       "    .dataframe tbody tr th:only-of-type {\n",
       "        vertical-align: middle;\n",
       "    }\n",
       "\n",
       "    .dataframe tbody tr th {\n",
       "        vertical-align: top;\n",
       "    }\n",
       "\n",
       "    .dataframe thead th {\n",
       "        text-align: right;\n",
       "    }\n",
       "</style>\n",
       "<table border=\"1\" class=\"dataframe\">\n",
       "  <thead>\n",
       "    <tr style=\"text-align: right;\">\n",
       "      <th></th>\n",
       "      <th>index</th>\n",
       "      <th>image_vector</th>\n",
       "      <th>voice_vector</th>\n",
       "      <th>target</th>\n",
       "    </tr>\n",
       "  </thead>\n",
       "  <tbody>\n",
       "    <tr>\n",
       "      <th>0</th>\n",
       "      <td>285</td>\n",
       "      <td>[0, 0, 0, 0, 0, 0, 0, 0, 0, 0, 0, 0, 0, 0, 0, ...</td>\n",
       "      <td>[-454.70526, 54.62366, 11.140218, 22.32652, -8...</td>\n",
       "      <td>2</td>\n",
       "    </tr>\n",
       "    <tr>\n",
       "      <th>1</th>\n",
       "      <td>212</td>\n",
       "      <td>[0, 0, 0, 0, 0, 0, 0, 0, 0, 0, 0, 0, 0, 0, 0, ...</td>\n",
       "      <td>[-181.37611, 41.81173, 23.814613, 4.1566625, -...</td>\n",
       "      <td>2</td>\n",
       "    </tr>\n",
       "    <tr>\n",
       "      <th>2</th>\n",
       "      <td>361</td>\n",
       "      <td>[0, 0, 0, 0, 0, 0, 0, 0, 0, 0, 0, 0, 0, 0, 0, ...</td>\n",
       "      <td>[-220.0484, 46.701973, 9.449443, 9.587729, -4....</td>\n",
       "      <td>3</td>\n",
       "    </tr>\n",
       "    <tr>\n",
       "      <th>3</th>\n",
       "      <td>347</td>\n",
       "      <td>[0, 0, 0, 0, 0, 0, 0, 0, 0, 0, 0, 0, 0, 0, 0, ...</td>\n",
       "      <td>[-227.78001, 158.38046, -45.224712, -39.631256...</td>\n",
       "      <td>3</td>\n",
       "    </tr>\n",
       "    <tr>\n",
       "      <th>4</th>\n",
       "      <td>428</td>\n",
       "      <td>[0, 0, 0, 0, 0, 0, 0, 0, 0, 0, 0, 0, 0, 0, 0, ...</td>\n",
       "      <td>[-195.73018, 93.947205, 9.354431, -37.064545, ...</td>\n",
       "      <td>4</td>\n",
       "    </tr>\n",
       "    <tr>\n",
       "      <th>...</th>\n",
       "      <td>...</td>\n",
       "      <td>...</td>\n",
       "      <td>...</td>\n",
       "      <td>...</td>\n",
       "    </tr>\n",
       "    <tr>\n",
       "      <th>495</th>\n",
       "      <td>411</td>\n",
       "      <td>[0, 0, 0, 0, 0, 0, 0, 0, 0, 0, 0, 0, 0, 0, 0, ...</td>\n",
       "      <td>[-138.72755, 80.69298, -26.852268, -38.903732,...</td>\n",
       "      <td>4</td>\n",
       "    </tr>\n",
       "    <tr>\n",
       "      <th>496</th>\n",
       "      <td>175</td>\n",
       "      <td>[0, 0, 0, 0, 0, 0, 0, 0, 0, 0, 0, 0, 0, 0, 0, ...</td>\n",
       "      <td>[-183.9127, 93.89262, 20.996738, -58.348854, -...</td>\n",
       "      <td>1</td>\n",
       "    </tr>\n",
       "    <tr>\n",
       "      <th>497</th>\n",
       "      <td>456</td>\n",
       "      <td>[0, 0, 0, 0, 0, 0, 0, 0, 0, 0, 0, 0, 0, 0, 0, ...</td>\n",
       "      <td>[-171.60304, 89.863045, -27.909735, -7.473554,...</td>\n",
       "      <td>4</td>\n",
       "    </tr>\n",
       "    <tr>\n",
       "      <th>498</th>\n",
       "      <td>476</td>\n",
       "      <td>[0, 0, 0, 0, 0, 0, 0, 0, 0, 0, 0, 0, 0, 0, 0, ...</td>\n",
       "      <td>[-189.14445, 49.78231, -8.477941, -0.78951895,...</td>\n",
       "      <td>4</td>\n",
       "    </tr>\n",
       "    <tr>\n",
       "      <th>499</th>\n",
       "      <td>187</td>\n",
       "      <td>[0, 0, 0, 0, 0, 0, 0, 0, 0, 0, 0, 0, 0, 0, 0, ...</td>\n",
       "      <td>[-381.80698, 108.32417, -16.850464, -28.252697...</td>\n",
       "      <td>1</td>\n",
       "    </tr>\n",
       "  </tbody>\n",
       "</table>\n",
       "<p>500 rows × 4 columns</p>\n",
       "</div>"
      ],
      "text/plain": [
       "    index                                       image_vector  \\\n",
       "0     285  [0, 0, 0, 0, 0, 0, 0, 0, 0, 0, 0, 0, 0, 0, 0, ...   \n",
       "1     212  [0, 0, 0, 0, 0, 0, 0, 0, 0, 0, 0, 0, 0, 0, 0, ...   \n",
       "2     361  [0, 0, 0, 0, 0, 0, 0, 0, 0, 0, 0, 0, 0, 0, 0, ...   \n",
       "3     347  [0, 0, 0, 0, 0, 0, 0, 0, 0, 0, 0, 0, 0, 0, 0, ...   \n",
       "4     428  [0, 0, 0, 0, 0, 0, 0, 0, 0, 0, 0, 0, 0, 0, 0, ...   \n",
       "..    ...                                                ...   \n",
       "495   411  [0, 0, 0, 0, 0, 0, 0, 0, 0, 0, 0, 0, 0, 0, 0, ...   \n",
       "496   175  [0, 0, 0, 0, 0, 0, 0, 0, 0, 0, 0, 0, 0, 0, 0, ...   \n",
       "497   456  [0, 0, 0, 0, 0, 0, 0, 0, 0, 0, 0, 0, 0, 0, 0, ...   \n",
       "498   476  [0, 0, 0, 0, 0, 0, 0, 0, 0, 0, 0, 0, 0, 0, 0, ...   \n",
       "499   187  [0, 0, 0, 0, 0, 0, 0, 0, 0, 0, 0, 0, 0, 0, 0, ...   \n",
       "\n",
       "                                          voice_vector  target  \n",
       "0    [-454.70526, 54.62366, 11.140218, 22.32652, -8...       2  \n",
       "1    [-181.37611, 41.81173, 23.814613, 4.1566625, -...       2  \n",
       "2    [-220.0484, 46.701973, 9.449443, 9.587729, -4....       3  \n",
       "3    [-227.78001, 158.38046, -45.224712, -39.631256...       3  \n",
       "4    [-195.73018, 93.947205, 9.354431, -37.064545, ...       4  \n",
       "..                                                 ...     ...  \n",
       "495  [-138.72755, 80.69298, -26.852268, -38.903732,...       4  \n",
       "496  [-183.9127, 93.89262, 20.996738, -58.348854, -...       1  \n",
       "497  [-171.60304, 89.863045, -27.909735, -7.473554,...       4  \n",
       "498  [-189.14445, 49.78231, -8.477941, -0.78951895,...       4  \n",
       "499  [-381.80698, 108.32417, -16.850464, -28.252697...       1  \n",
       "\n",
       "[500 rows x 4 columns]"
      ]
     },
     "execution_count": 42,
     "metadata": {},
     "output_type": "execute_result"
    }
   ],
   "source": [
    "dataset_te"
   ]
  },
  {
   "cell_type": "markdown",
   "metadata": {},
   "source": [
    "### Добавление столбца с предсказаниями нейросети к данным с голосом"
   ]
  },
  {
   "cell_type": "code",
   "execution_count": 44,
   "metadata": {
    "ExecuteTime": {
     "end_time": "2019-11-20T12:56:38.256683Z",
     "start_time": "2019-11-20T12:56:37.574841Z"
    }
   },
   "outputs": [],
   "source": [
    "X_trainv = np.hstack((np.vstack(dataset_tr[\"voice_vector\"].values),np.vstack(model.predict(X_trainimg).argmax(axis=1))))\n",
    "y_trainv = dataset_tr[\"target\"]\n",
    "X_testv = np.hstack((np.vstack(dataset_te[\"voice_vector\"].values),np.vstack(model.predict(X_testimg).argmax(axis=1))))\n"
   ]
  },
  {
   "cell_type": "markdown",
   "metadata": {},
   "source": [
    "### На получившемся датасете обучаем RandomForestClassifier"
   ]
  },
  {
   "cell_type": "code",
   "execution_count": 46,
   "metadata": {
    "ExecuteTime": {
     "end_time": "2019-11-20T12:57:00.268135Z",
     "start_time": "2019-11-20T12:56:58.950378Z"
    }
   },
   "outputs": [],
   "source": [
    "from sklearn.ensemble import RandomForestClassifier\n",
    "clf = RandomForestClassifier(n_estimators=150, min_samples_split=2, min_samples_leaf=5).fit(X_trainv, y_trainv)"
   ]
  },
  {
   "cell_type": "code",
   "execution_count": 47,
   "metadata": {
    "ExecuteTime": {
     "end_time": "2019-11-20T12:57:08.062825Z",
     "start_time": "2019-11-20T12:57:07.995624Z"
    }
   },
   "outputs": [
    {
     "data": {
      "text/plain": [
       "0.9993333333333333"
      ]
     },
     "execution_count": 47,
     "metadata": {},
     "output_type": "execute_result"
    }
   ],
   "source": [
    "clf.score(X_trainv, y_trainv)\n"
   ]
  },
  {
   "cell_type": "markdown",
   "metadata": {},
   "source": [
    "### Готовим submit data"
   ]
  },
  {
   "cell_type": "code",
   "execution_count": 49,
   "metadata": {
    "ExecuteTime": {
     "end_time": "2019-11-20T12:58:50.748120Z",
     "start_time": "2019-11-20T12:58:48.649000Z"
    }
   },
   "outputs": [],
   "source": [
    "submit_image_features = extract_image_features(IMAGE_TEST_PATH)\n",
    "submit_voice_features = extract_voice_features(VOICE_TEST_PATH)\n",
    "submit_dataset = submit_image_features.merge(\n",
    "    submit_voice_features, \n",
    "    on=\"index\"\n",
    ")\n",
    "submit_dataset[\"index\"] = submit_dataset[\"index\"].apply(int)"
   ]
  },
  {
   "cell_type": "markdown",
   "metadata": {
    "ExecuteTime": {
     "end_time": "2019-11-18T19:54:50.635729Z",
     "start_time": "2019-11-18T19:54:50.630321Z"
    }
   },
   "source": [
    "make prediction"
   ]
  },
  {
   "cell_type": "code",
   "execution_count": 50,
   "metadata": {
    "ExecuteTime": {
     "end_time": "2019-11-20T12:58:54.441818Z",
     "start_time": "2019-11-20T12:58:54.413811Z"
    }
   },
   "outputs": [],
   "source": [
    "submit_dataset[\"target\"] = clf.predict(X_testv)"
   ]
  },
  {
   "cell_type": "code",
   "execution_count": 52,
   "metadata": {
    "ExecuteTime": {
     "end_time": "2019-11-20T12:59:11.015919Z",
     "start_time": "2019-11-20T12:59:11.002150Z"
    }
   },
   "outputs": [],
   "source": [
    "submit_dataset[[\"index\", \"target\"]] \\\n",
    "    .sort_values(\"index\") \\\n",
    "    .to_csv(\"random_submission1.csv\", index=False)"
   ]
  }
 ],
 "metadata": {
  "kernelspec": {
   "display_name": "Python 3",
   "language": "python",
   "name": "python3"
  },
  "language_info": {
   "codemirror_mode": {
    "name": "ipython",
    "version": 3
   },
   "file_extension": ".py",
   "mimetype": "text/x-python",
   "name": "python",
   "nbconvert_exporter": "python",
   "pygments_lexer": "ipython3",
   "version": "3.6.6"
  },
  "toc": {
   "base_numbering": "0",
   "nav_menu": {
    "height": "346px",
    "width": "417px"
   },
   "number_sections": true,
   "sideBar": true,
   "skip_h1_title": false,
   "title_cell": "Table of Contents",
   "title_sidebar": "Contents",
   "toc_cell": true,
   "toc_position": {
    "height": "386px",
    "left": "261px",
    "top": "133px",
    "width": "256px"
   },
   "toc_section_display": true,
   "toc_window_display": false
  }
 },
 "nbformat": 4,
 "nbformat_minor": 2
}
